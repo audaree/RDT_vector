{
 "cells": [
  {
   "cell_type": "markdown",
   "id": "4e1eb8d5",
   "metadata": {},
   "source": [
    "# Locate possible outliers in Heave, North, and West data in .RDT files"
   ]
  },
  {
   "cell_type": "markdown",
   "id": "201eafd7",
   "metadata": {},
   "source": [
    "### Load required packages"
   ]
  },
  {
   "cell_type": "code",
   "execution_count": null,
   "id": "a5d2d415",
   "metadata": {},
   "outputs": [],
   "source": [
    "# List of packages (and their functions) used in the modules below\n",
    "using DataFrames: DataFrame, ncol, nrow\n",
    "using Dates: Day, Date, Dates, DateTime, Hour, Microsecond, Minute, Month, now, Time, unix2datetime, Year\n",
    "#using FilePathsBase\n",
    "using Flux: Adam, Chain, Dense, Flux, mse, params, relu, train!\n",
    "using Glob: glob\n",
    "using JLD2: @load, @save, jldopen\n",
    "using NativeFileDialog: pick_file, pick_folder\n",
    "using Plots:  annotate!, font, hline!, hspan!, plot, Plots, plotly, plot!, scatter!, text, vline!, xlims, ylims, @layout\n",
    "using Printf: @sprintf\n",
    "using Sockets: gethostname\n",
    "using Statistics: mean, median, quantile, std\n",
    "using Tk: Button, Frame, Tk, Toplevel, Treeview, bind, destroy, get_value, pack, scrollbars_add, tcl\n",
    "\n",
    "include(\".\\\\Mk3_model_functions.jl\");    # this contains the functions called by the modules below\n",
    "\n",
    "println(\"Loading packages completed\")\n",
    "\n",
    "hostname = gethostname()\n",
    "##println(\"The name of the computer is: \", hostname)\n",
    "\n",
    "if hostname == \"QUEENSLAND-BASIN\"\n",
    "    \n",
    "    display(\"text/html\", \"<style>.container { width:100% !important; }</style>\")\n",
    "    initial_path = \"E:\\\\Card Data\\\\\"\n",
    "    \n",
    "else\n",
    "    \n",
    "    display(HTML(\"<style>.jp-Cell { width: 120% !important; }</style>\"))    \n",
    "    initial_path = \"F:\\\\Card Data\\\\\"\n",
    "    \n",
    "end;"
   ]
  },
  {
   "cell_type": "markdown",
   "id": "c6a77140",
   "metadata": {},
   "source": [
    "### Recover .RDT hybrid_model, optimiser, and training data from file"
   ]
  },
  {
   "cell_type": "code",
   "execution_count": null,
   "id": "1a542ad4",
   "metadata": {},
   "outputs": [],
   "source": [
    "# Select the JLD2 file\n",
    "current_path = pwd() * \"\\\\Model\"\n",
    "filterlist = \"JLD2\"\n",
    "infil = pick_file(current_path; filterlist)\n",
    "\n",
    "# Ensure the file extension is uppercase\n",
    "infil = replace(infil, \".jld2\" => \".JLD2\")\n",
    "\n",
    "println(\"File selected: $infil\")\n",
    "\n",
    "# Verify keys in the JLD2 file\n",
    "jldopen(infil, \"r\") do file\n",
    "    println(\"Keys in saved hybrid_model file:\", keys(file))\n",
    "end\n",
    "\n",
    "# Load the saved data into variables\n",
    "@load infil hybrid_model opt training_data_good training_data_bad\n",
    "\n",
    "# Verify the loaded data\n",
    "println(\"Model type: \", typeof(hybrid_model))         # Should be Chain\n",
    "println(\"Optimizer type: \", typeof(opt))             # Should be an optimizer, e.g., Adam\n",
    "println(\"Good training data type: \", typeof(training_data_good))  # Should be Array\n",
    "println(\"Bad training data type: \", typeof(training_data_bad))    # Should be Array\n",
    "\n",
    "println(\"\\nModel and training data loaded\")"
   ]
  },
  {
   "cell_type": "markdown",
   "id": "f7ee1947",
   "metadata": {},
   "source": [
    "### Select .RDT directory and read its files"
   ]
  },
  {
   "cell_type": "code",
   "execution_count": null,
   "id": "dc5a8178",
   "metadata": {},
   "outputs": [],
   "source": [
    "#==\n",
    "Calls:\n",
    "\n",
    "    get_sorted_file_data()\n",
    "    plot_all_directory()\n",
    "\n",
    "==#\n",
    "\n",
    "# Define the path to the directory you want to search in\n",
    "directory_path = pick_folder(initial_path)\n",
    "\n",
    "# Use glob to find all .RDT files in the directory and subdirectories\n",
    "println(\"Reading all .RDT files in \",directory_path)\n",
    "flush(stdout)\n",
    "rdt_files = glob(\".//*.RDT\", directory_path)\n",
    "\n",
    "# remove the TMP.RDT file from the array\n",
    "TMP_file = \"TMP.RDT\"\n",
    "rdt_files = filter(file -> basename(file) != TMP_file, rdt_files)\n",
    "\n",
    "# Extract sorted dates, Hmax_values, and rdt_files\n",
    "sorted_dates, sorted_rdt_files, sorted_Hsig_values = get_sorted_file_data(infil, rdt_files)\n",
    "date_array = Dates.format.(values(sorted_dates), \"yyyy-mm-dd\");\n",
    "  \n",
    "plot_all_directory(sorted_dates, sorted_Hsig_values)"
   ]
  },
  {
   "cell_type": "markdown",
   "id": "96d8c3b0",
   "metadata": {},
   "source": [
    "### Select a .RDT file from menu"
   ]
  },
  {
   "cell_type": "code",
   "execution_count": null,
   "id": "4d2c92d4",
   "metadata": {},
   "outputs": [],
   "source": [
    "#==\n",
    "Calls:\n",
    "\n",
    "    select_date_from_list()\n",
    "    decode_rdt_data()\n",
    "\n",
    "==#\n",
    "\n",
    "dates_array = Dates.format.(sorted_dates, \"yyyy-mm-dd\")\n",
    "\n",
    "selected_date = select_date_from_list(dates_array)\n",
    "println(\"Selected date: \", selected_date === nothing ? \"None\" : selected_date)\n",
    "\n",
    "index = findall(x -> x == selected_date,string.(sorted_dates));\n",
    "\n",
    "# Read the selected .RDT file\n",
    "infil = directory_path * \"\\\\\" * sorted_rdt_files[index[1]]\n",
    "\n",
    "# Initialize GPS_errors as an empty 3D array\n",
    "        \n",
    "REC_LENGTH = 2304       # Number of WSE's in a Mk4 30-minute record\n",
    "SAMPLE_FREQUENCY = 1.28 # Mk4 sample frequency in Hertz\n",
    "SAMPLE_LENGTH = 1800    # Record length in seconds\n",
    "SAMPLE_RATE = Float64(1 / SAMPLE_FREQUENCY) # Sample spacing in seconds\n",
    "\n",
    "X_data, X_date, GPS_errors = decode_rdt_data(infil)\n",
    "\n",
    "# Identify zero columns and remove them\n",
    "zero_columns = findall(i -> all(==(0), X_data[:, i, :]), 1:size(X_data, 2))\n",
    "##X_data = X_data[:, setdiff(1:size(X_data, 2), zero_columns), :]\n",
    "##X_date = X_date[setdiff(1:length(X_date), zero_columns)]\n",
    "\n",
    "# Locate GPS errors flagged by Datawell\n",
    "column_sums = sum(GPS_errors[:, :, 1], dims=1)  # Sum along the rows (dimension 1)\n",
    "\n",
    "column_sums_vector = vec(column_sums)  # Converts the 1×288 matrix to a 288-element vector\n",
    "records_with_errors = findall(x -> x > 0, column_sums_vector)\n",
    "\n",
    "println(\"\\n\",string(length(records_with_errors)),\" records with GPS errors: \")"
   ]
  },
  {
   "cell_type": "markdown",
   "id": "8d827d47",
   "metadata": {},
   "source": [
    "### Run the hybrid model against data in the selected .RDT file"
   ]
  },
  {
   "cell_type": "code",
   "execution_count": null,
   "id": "d8de1835",
   "metadata": {},
   "outputs": [],
   "source": [
    "#==\n",
    "Calls:\n",
    "\n",
    "    detect_outliers()\n",
    "\n",
    "==#\n",
    "\n",
    "@time begin\n",
    "    \n",
    "    # identify possible outliers in Heave, North, and West data\n",
    "    outlier_heave, uncertain_heave, outlier_dates_heave, uncertain_dates_heave, good_thresh_heave, bad_thresh_heave = \n",
    "        detect_outliers(X_data[:,:,1], X_date, training_data_good, training_data_bad, hybrid_model)\n",
    "    outlier_north, uncertain_north, outlier_dates_north, uncertain_dates_north, good_thresh_north, bad_thresh_north = \n",
    "        detect_outliers(X_data[:,:,2], X_date, training_data_good, training_data_bad, hybrid_model)\n",
    "    outlier_west, uncertain_west, outlier_dates_west, uncertain_dates_west, good_thresh_west, bad_thresh_west = \n",
    "        detect_outliers(X_data[:,:,3], X_date, training_data_good, training_data_bad, hybrid_model)\n",
    "    \n",
    "    # Combine and deduplicate dates across components\n",
    "    all_outlier = unique(vcat(outlier_heave, outlier_north, outlier_west))\n",
    "    all_uncertain = unique(vcat(uncertain_heave, uncertain_north, uncertain_west))\n",
    "    \n",
    "    # Combine and deduplicate dates across components\n",
    "    all_outlier_dates = unique(vcat(outlier_dates_heave, outlier_dates_north, outlier_dates_west))\n",
    "    all_uncertain_dates = unique(vcat(uncertain_dates_heave, uncertain_dates_north, uncertain_dates_west));\n",
    "\n",
    "end\n",
    "\n",
    "# Output results\n",
    "println(\"\\nFor \",infil,\"\\n\")\n",
    "if !isempty(all_outlier_dates)\n",
    "    println(string(length(all_outlier_dates)), \" records contain suspected outliers at the following dates:\\n\")\n",
    "    for date in all_outlier_dates\n",
    "        println(\"    \", Dates.format(date, \"yyyy-mm-dd HH:MM\"))\n",
    "    end\n",
    "    print(\"\\n\")\n",
    "else\n",
    "    println(\"No suspected outliers detected.\\n\")\n",
    "end\n",
    "\n",
    "if !isempty(all_uncertain_dates)\n",
    "    println(string(length(all_uncertain_dates)), \" records contain uncertain data points at the following dates:\\n\")\n",
    "    for date in all_uncertain_dates\n",
    "        println(\"    \", Dates.format(date, \"yyyy-mm-dd HH:MM\"))\n",
    "    end\n",
    "else\n",
    "    println(\"No uncertain data points detected.\")\n",
    "end\n",
    "\n",
    "println(\"\\nNow run the plot routine to view the suspect records\")"
   ]
  },
  {
   "cell_type": "markdown",
   "id": "99b917bb",
   "metadata": {},
   "source": [
    "### Plot records with suspect data (as identified by the model)"
   ]
  },
  {
   "cell_type": "code",
   "execution_count": null,
   "id": "234a2875",
   "metadata": {
    "scrolled": true
   },
   "outputs": [],
   "source": [
    "#==\n",
    "Calls:\n",
    "\n",
    "    do_heave_north_west_plots()\n",
    "\n",
    "==#\n",
    "\n",
    "combined_outlier = unique(vcat(all_outlier, records_with_errors))\n",
    "\n",
    "jj = 1\n",
    "\n",
    "for ii ∈ sort(combined_outlier) # all_outlier)\n",
    "\n",
    "    # Initialize variables\n",
    "    start_time = X_date[ii]\n",
    "       \n",
    "    do_heave_north_west_plots(ii, start_time, X_data, GPS_errors)\n",
    "\n",
    "    jj += 1\n",
    "    \n",
    "end"
   ]
  },
  {
   "cell_type": "code",
   "execution_count": null,
   "id": "2d566cd1",
   "metadata": {},
   "outputs": [],
   "source": []
  }
 ],
 "metadata": {
  "kernelspec": {
   "display_name": "Julia 1.10.2",
   "language": "julia",
   "name": "julia-1.10"
  },
  "language_info": {
   "file_extension": ".jl",
   "mimetype": "application/julia",
   "name": "julia",
   "version": "1.10.2"
  }
 },
 "nbformat": 4,
 "nbformat_minor": 5
}
